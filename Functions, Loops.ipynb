{
 "cells": [
  {
   "cell_type": "markdown",
   "id": "e4b949d4",
   "metadata": {},
   "source": [
    "# Functions\n",
    "- In python, there are two types of function.\n",
    "    - Built-in funtions\n",
    "    - User defined function\n",
    "- We can create our own customized functions in python for code reusability."
   ]
  },
  {
   "cell_type": "code",
   "execution_count": 1,
   "id": "c03cfde8",
   "metadata": {
    "ExecuteTime": {
     "end_time": "2023-07-01T06:19:48.615754Z",
     "start_time": "2023-07-01T06:19:48.600358Z"
    }
   },
   "outputs": [],
   "source": [
    "#Basic Function"
   ]
  },
  {
   "cell_type": "code",
   "execution_count": 1,
   "id": "44fe4a3f",
   "metadata": {
    "ExecuteTime": {
     "end_time": "2023-07-02T10:58:49.439131Z",
     "start_time": "2023-07-02T10:58:49.420933Z"
    }
   },
   "outputs": [],
   "source": [
    "def basic_function():\n",
    "    print('This is user defined function')"
   ]
  },
  {
   "cell_type": "code",
   "execution_count": 2,
   "id": "77be4f62",
   "metadata": {
    "ExecuteTime": {
     "end_time": "2023-07-02T10:59:20.924616Z",
     "start_time": "2023-07-02T10:59:20.913705Z"
    }
   },
   "outputs": [
    {
     "name": "stdout",
     "output_type": "stream",
     "text": [
      "This is user defined function\n"
     ]
    }
   ],
   "source": [
    "basic_function()"
   ]
  },
  {
   "cell_type": "code",
   "execution_count": 2,
   "id": "c96b8c93",
   "metadata": {
    "ExecuteTime": {
     "end_time": "2023-07-01T06:19:48.637670Z",
     "start_time": "2023-07-01T06:19:48.625865Z"
    }
   },
   "outputs": [],
   "source": [
    "#Docstring"
   ]
  },
  {
   "cell_type": "code",
   "execution_count": 3,
   "id": "a50ef5a0",
   "metadata": {
    "ExecuteTime": {
     "end_time": "2023-07-02T11:01:28.755987Z",
     "start_time": "2023-07-02T11:01:28.747191Z"
    }
   },
   "outputs": [],
   "source": [
    "def func():\n",
    "    '''This function will print 10 number'''\n",
    "    print(10)"
   ]
  },
  {
   "cell_type": "code",
   "execution_count": 4,
   "id": "1b90c78c",
   "metadata": {
    "ExecuteTime": {
     "end_time": "2023-07-02T11:01:52.553899Z",
     "start_time": "2023-07-02T11:01:52.531828Z"
    }
   },
   "outputs": [
    {
     "name": "stdout",
     "output_type": "stream",
     "text": [
      "10\n"
     ]
    }
   ],
   "source": [
    "func()"
   ]
  },
  {
   "cell_type": "code",
   "execution_count": 5,
   "id": "6b9466dc",
   "metadata": {
    "ExecuteTime": {
     "end_time": "2023-07-02T11:03:00.535246Z",
     "start_time": "2023-07-02T11:03:00.278641Z"
    },
    "collapsed": true
   },
   "outputs": [
    {
     "ename": "TypeError",
     "evalue": "func() takes 0 positional arguments but 1 was given",
     "output_type": "error",
     "traceback": [
      "\u001b[1;31m---------------------------------------------------------------------------\u001b[0m",
      "\u001b[1;31mTypeError\u001b[0m                                 Traceback (most recent call last)",
      "\u001b[1;32m~\\AppData\\Local\\Temp\\ipykernel_30332\\2147681911.py\u001b[0m in \u001b[0;36m<module>\u001b[1;34m\u001b[0m\n\u001b[1;32m----> 1\u001b[1;33m \u001b[0mfunc\u001b[0m\u001b[1;33m(\u001b[0m\u001b[1;36m20\u001b[0m\u001b[1;33m)\u001b[0m\u001b[1;33m\u001b[0m\u001b[1;33m\u001b[0m\u001b[0m\n\u001b[0m",
      "\u001b[1;31mTypeError\u001b[0m: func() takes 0 positional arguments but 1 was given"
     ]
    }
   ],
   "source": [
    "func(20)"
   ]
  },
  {
   "cell_type": "code",
   "execution_count": 15,
   "id": "fc10f05f",
   "metadata": {
    "ExecuteTime": {
     "end_time": "2023-07-02T11:08:48.483538Z",
     "start_time": "2023-07-02T11:08:48.474567Z"
    }
   },
   "outputs": [],
   "source": [
    "#Write a python function which will return me the maximum number\n",
    "def max_function(num1,num2):\n",
    "    '''This function will return the max between given 2 numbers'''\n",
    "    return max(num1,num2)"
   ]
  },
  {
   "cell_type": "code",
   "execution_count": 9,
   "id": "8a269a9a",
   "metadata": {
    "ExecuteTime": {
     "end_time": "2023-07-02T11:05:28.142449Z",
     "start_time": "2023-07-02T11:05:28.109938Z"
    }
   },
   "outputs": [
    {
     "data": {
      "text/plain": [
       "15"
      ]
     },
     "execution_count": 9,
     "metadata": {},
     "output_type": "execute_result"
    }
   ],
   "source": [
    "max_function(10,15)"
   ]
  },
  {
   "cell_type": "code",
   "execution_count": 17,
   "id": "5004fc8f",
   "metadata": {
    "ExecuteTime": {
     "end_time": "2023-07-02T11:09:10.711360Z",
     "start_time": "2023-07-02T11:09:10.697487Z"
    },
    "collapsed": true
   },
   "outputs": [
    {
     "ename": "TypeError",
     "evalue": "max_function() takes 2 positional arguments but 3 were given",
     "output_type": "error",
     "traceback": [
      "\u001b[1;31m---------------------------------------------------------------------------\u001b[0m",
      "\u001b[1;31mTypeError\u001b[0m                                 Traceback (most recent call last)",
      "\u001b[1;32m~\\AppData\\Local\\Temp\\ipykernel_30332\\4127673514.py\u001b[0m in \u001b[0;36m<module>\u001b[1;34m\u001b[0m\n\u001b[1;32m----> 1\u001b[1;33m \u001b[0mmax_function\u001b[0m\u001b[1;33m(\u001b[0m\u001b[1;36m10\u001b[0m\u001b[1;33m,\u001b[0m\u001b[1;36m52\u001b[0m\u001b[1;33m,\u001b[0m\u001b[1;36m32\u001b[0m\u001b[1;33m)\u001b[0m\u001b[1;33m\u001b[0m\u001b[1;33m\u001b[0m\u001b[0m\n\u001b[0m",
      "\u001b[1;31mTypeError\u001b[0m: max_function() takes 2 positional arguments but 3 were given"
     ]
    }
   ],
   "source": [
    "max_function(10,52,32)"
   ]
  },
  {
   "cell_type": "code",
   "execution_count": 10,
   "id": "9c989cbc",
   "metadata": {
    "ExecuteTime": {
     "end_time": "2023-07-02T11:05:48.625053Z",
     "start_time": "2023-07-02T11:05:48.617370Z"
    }
   },
   "outputs": [
    {
     "data": {
      "text/plain": [
       "50"
      ]
     },
     "execution_count": 10,
     "metadata": {},
     "output_type": "execute_result"
    }
   ],
   "source": [
    "max_function(50,22)"
   ]
  },
  {
   "cell_type": "code",
   "execution_count": 4,
   "id": "003384b1",
   "metadata": {
    "ExecuteTime": {
     "end_time": "2023-07-01T06:19:48.681580Z",
     "start_time": "2023-07-01T06:19:48.668340Z"
    }
   },
   "outputs": [],
   "source": [
    "#*args"
   ]
  },
  {
   "cell_type": "code",
   "execution_count": 11,
   "id": "5fbfe8d0",
   "metadata": {
    "ExecuteTime": {
     "end_time": "2023-07-02T11:07:55.677762Z",
     "start_time": "2023-07-02T11:07:55.669974Z"
    }
   },
   "outputs": [],
   "source": [
    "def max_number(*numbers):\n",
    "    return max(numbers)"
   ]
  },
  {
   "cell_type": "code",
   "execution_count": 14,
   "id": "bad7bd8b",
   "metadata": {
    "ExecuteTime": {
     "end_time": "2023-07-02T11:08:32.793014Z",
     "start_time": "2023-07-02T11:08:32.771869Z"
    }
   },
   "outputs": [
    {
     "data": {
      "text/plain": [
       "820"
      ]
     },
     "execution_count": 14,
     "metadata": {},
     "output_type": "execute_result"
    }
   ],
   "source": [
    "max_number(10,12,15,20,500,95,820)"
   ]
  },
  {
   "cell_type": "markdown",
   "id": "603cc120",
   "metadata": {},
   "source": [
    "# Loops\n",
    "\n",
    "1. While Loop \n",
    "2. For loop"
   ]
  },
  {
   "cell_type": "code",
   "execution_count": 7,
   "id": "c26de0a4",
   "metadata": {
    "ExecuteTime": {
     "end_time": "2023-07-02T11:24:52.363387Z",
     "start_time": "2023-07-02T11:24:52.346290Z"
    },
    "collapsed": true
   },
   "outputs": [
    {
     "name": "stdout",
     "output_type": "stream",
     "text": [
      "10 Eating an apple\n",
      "9 Eating an apple\n",
      "8 Eating an apple\n",
      "7 Eating an apple\n",
      "6 Eating an apple\n",
      "5 Eating an apple\n",
      "4 Eating an apple\n",
      "3 Eating an apple\n",
      "2 Eating an apple\n",
      "1 Eating an apple\n",
      "Basket is empty\n"
     ]
    }
   ],
   "source": [
    "apples = 10\n",
    "\n",
    "while apples > 0:\n",
    "    print(apples, 'Eating an apple')\n",
    "    apples = apples - 1\n",
    "print('Basket is empty')"
   ]
  },
  {
   "cell_type": "code",
   "execution_count": 12,
   "id": "08d8986f",
   "metadata": {
    "ExecuteTime": {
     "end_time": "2023-07-02T11:28:32.143549Z",
     "start_time": "2023-07-02T11:28:32.123134Z"
    },
    "collapsed": true
   },
   "outputs": [
    {
     "name": "stdout",
     "output_type": "stream",
     "text": [
      "You have taken:  0\n",
      "You have taken:  1\n",
      "You have taken:  2\n",
      "You have taken:  3\n",
      "You have taken:  4\n",
      "You have taken:  5\n",
      "You have taken:  6\n",
      "You have taken:  7\n",
      "You have taken:  8\n",
      "You have taken:  9\n",
      "You have taken:  10\n",
      "You have taken:  11\n",
      "You have taken:  12\n",
      "You have taken:  13\n",
      "You have taken:  14\n",
      "You have taken:  15\n",
      "You have taken:  16\n",
      "You have taken:  17\n",
      "You have taken:  18\n",
      "You have taken:  19\n",
      "You have taken:  20\n",
      "You have taken:  21\n",
      "You have taken:  22\n",
      "You have taken:  23\n",
      "You have taken:  24\n",
      "You have taken:  25\n",
      "You have reached the top\n"
     ]
    }
   ],
   "source": [
    "steps = 0\n",
    "\n",
    "while steps <= 25:\n",
    "    print('You have taken: ', steps)\n",
    "    steps = steps + 1\n",
    "print('You have reached the top')"
   ]
  },
  {
   "cell_type": "code",
   "execution_count": 13,
   "id": "ec0d9c0d",
   "metadata": {
    "ExecuteTime": {
     "end_time": "2023-07-02T11:30:23.758904Z",
     "start_time": "2023-07-02T11:30:23.739364Z"
    }
   },
   "outputs": [
    {
     "data": {
      "text/plain": [
       "range(1, 50)"
      ]
     },
     "execution_count": 13,
     "metadata": {},
     "output_type": "execute_result"
    }
   ],
   "source": [
    "#range function\n",
    "range(1,50)"
   ]
  },
  {
   "cell_type": "code",
   "execution_count": 18,
   "id": "bb2ae0b3",
   "metadata": {
    "ExecuteTime": {
     "end_time": "2023-07-02T11:32:39.506097Z",
     "start_time": "2023-07-02T11:32:39.496481Z"
    },
    "collapsed": true
   },
   "outputs": [
    {
     "data": {
      "text/plain": [
       "[1, 4, 7, 10, 13, 16, 19, 22, 25, 28, 31, 34, 37, 40, 43, 46, 49]"
      ]
     },
     "execution_count": 18,
     "metadata": {},
     "output_type": "execute_result"
    }
   ],
   "source": [
    "r = range(1,51,3)\n",
    "list(r)"
   ]
  },
  {
   "cell_type": "code",
   "execution_count": 7,
   "id": "d4d45a83",
   "metadata": {
    "ExecuteTime": {
     "end_time": "2023-07-01T06:19:48.731881Z",
     "start_time": "2023-07-01T06:19:48.724054Z"
    }
   },
   "outputs": [],
   "source": [
    "#For loop"
   ]
  },
  {
   "cell_type": "code",
   "execution_count": 19,
   "id": "ac96a16e",
   "metadata": {
    "ExecuteTime": {
     "end_time": "2023-07-02T11:34:41.449202Z",
     "start_time": "2023-07-02T11:34:41.433555Z"
    },
    "collapsed": true
   },
   "outputs": [
    {
     "name": "stdout",
     "output_type": "stream",
     "text": [
      "1\n",
      "2\n",
      "3\n",
      "4\n",
      "5\n",
      "6\n",
      "7\n",
      "8\n",
      "9\n",
      "10\n",
      "11\n",
      "12\n",
      "13\n",
      "14\n",
      "15\n",
      "16\n",
      "17\n",
      "18\n",
      "19\n",
      "20\n",
      "21\n",
      "22\n",
      "23\n",
      "24\n",
      "25\n",
      "26\n",
      "27\n",
      "28\n",
      "29\n",
      "30\n",
      "31\n",
      "32\n",
      "33\n",
      "34\n",
      "35\n",
      "36\n",
      "37\n",
      "38\n",
      "39\n",
      "40\n",
      "41\n",
      "42\n",
      "43\n",
      "44\n",
      "45\n",
      "46\n",
      "47\n",
      "48\n",
      "49\n",
      "50\n"
     ]
    }
   ],
   "source": [
    "for i in range(1,51):\n",
    "    print(i)"
   ]
  },
  {
   "cell_type": "code",
   "execution_count": 20,
   "id": "694f8aa4",
   "metadata": {
    "ExecuteTime": {
     "end_time": "2023-07-02T11:37:46.935283Z",
     "start_time": "2023-07-02T11:37:46.928839Z"
    }
   },
   "outputs": [],
   "source": [
    "lst1 = []\n",
    "for i in range(1,51):\n",
    "    lst1.append(i)"
   ]
  },
  {
   "cell_type": "code",
   "execution_count": 21,
   "id": "e0b7cf8b",
   "metadata": {
    "ExecuteTime": {
     "end_time": "2023-07-02T11:37:50.560442Z",
     "start_time": "2023-07-02T11:37:50.538670Z"
    },
    "collapsed": true
   },
   "outputs": [
    {
     "data": {
      "text/plain": [
       "[1,\n",
       " 2,\n",
       " 3,\n",
       " 4,\n",
       " 5,\n",
       " 6,\n",
       " 7,\n",
       " 8,\n",
       " 9,\n",
       " 10,\n",
       " 11,\n",
       " 12,\n",
       " 13,\n",
       " 14,\n",
       " 15,\n",
       " 16,\n",
       " 17,\n",
       " 18,\n",
       " 19,\n",
       " 20,\n",
       " 21,\n",
       " 22,\n",
       " 23,\n",
       " 24,\n",
       " 25,\n",
       " 26,\n",
       " 27,\n",
       " 28,\n",
       " 29,\n",
       " 30,\n",
       " 31,\n",
       " 32,\n",
       " 33,\n",
       " 34,\n",
       " 35,\n",
       " 36,\n",
       " 37,\n",
       " 38,\n",
       " 39,\n",
       " 40,\n",
       " 41,\n",
       " 42,\n",
       " 43,\n",
       " 44,\n",
       " 45,\n",
       " 46,\n",
       " 47,\n",
       " 48,\n",
       " 49,\n",
       " 50]"
      ]
     },
     "execution_count": 21,
     "metadata": {},
     "output_type": "execute_result"
    }
   ],
   "source": [
    "lst1"
   ]
  },
  {
   "cell_type": "code",
   "execution_count": 22,
   "id": "e55b50f3",
   "metadata": {
    "ExecuteTime": {
     "end_time": "2023-07-02T11:38:38.659638Z",
     "start_time": "2023-07-02T11:38:38.645468Z"
    }
   },
   "outputs": [],
   "source": [
    "#Company list\n",
    "company = ['amazon','flipkart','excelr']"
   ]
  },
  {
   "cell_type": "code",
   "execution_count": 23,
   "id": "77bd1973",
   "metadata": {
    "ExecuteTime": {
     "end_time": "2023-07-02T11:40:58.443545Z",
     "start_time": "2023-07-02T11:40:58.425531Z"
    },
    "collapsed": true
   },
   "outputs": [
    {
     "name": "stdout",
     "output_type": "stream",
     "text": [
      "www.amazon.com\n",
      "www.flipkart.com\n",
      "www.excelr.com\n"
     ]
    }
   ],
   "source": [
    "websites = []\n",
    "\n",
    "for i in company:\n",
    "    print('www.'+i+'.com')"
   ]
  },
  {
   "cell_type": "code",
   "execution_count": 29,
   "id": "b3893ac1",
   "metadata": {
    "ExecuteTime": {
     "end_time": "2023-07-02T11:45:47.548882Z",
     "start_time": "2023-07-02T11:45:47.537364Z"
    },
    "collapsed": true
   },
   "outputs": [
    {
     "name": "stdout",
     "output_type": "stream",
     "text": [
      "Hello Aisha\n",
      "Hello Ravi\n",
      "Hello Smita\n"
     ]
    }
   ],
   "source": [
    "frds = ['Aisha','Ravi','Smita']\n",
    "\n",
    "for i in frds:\n",
    "    print('Hello',i)"
   ]
  },
  {
   "cell_type": "code",
   "execution_count": 30,
   "id": "88d750ca",
   "metadata": {
    "ExecuteTime": {
     "end_time": "2023-07-02T11:46:55.878174Z",
     "start_time": "2023-07-02T11:46:55.870329Z"
    },
    "collapsed": true
   },
   "outputs": [
    {
     "name": "stdout",
     "output_type": "stream",
     "text": [
      "1\n",
      "4\n",
      "9\n",
      "16\n",
      "25\n",
      "36\n",
      "49\n",
      "64\n",
      "81\n",
      "100\n"
     ]
    }
   ],
   "source": [
    "#Print square of all the number in the range of 1,10\n",
    "for i in range(1,11):\n",
    "    print(i**2)"
   ]
  },
  {
   "cell_type": "markdown",
   "id": "4f712923",
   "metadata": {},
   "source": [
    "# In-Class Activity:\n",
    "\n",
    "1. Write a program to store all names which starts with 'A' in a list.\n",
    "2. Take a list of numbers and add 5 to each number.\n",
    "3. Create a list of marks and print only marks > 75.\n",
    "4. Write a program which will print 'You are not eligible to vote if age < 18 and print 'you are eligible if age is 18."
   ]
  },
  {
   "cell_type": "code",
   "execution_count": null,
   "id": "8bffc7eb",
   "metadata": {},
   "outputs": [],
   "source": []
  }
 ],
 "metadata": {
  "kernelspec": {
   "display_name": "Python 3 (ipykernel)",
   "language": "python",
   "name": "python3"
  },
  "language_info": {
   "codemirror_mode": {
    "name": "ipython",
    "version": 3
   },
   "file_extension": ".py",
   "mimetype": "text/x-python",
   "name": "python",
   "nbconvert_exporter": "python",
   "pygments_lexer": "ipython3",
   "version": "3.9.13"
  }
 },
 "nbformat": 4,
 "nbformat_minor": 5
}
