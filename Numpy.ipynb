{
 "cells": [
  {
   "cell_type": "markdown",
   "id": "b6c55a1c",
   "metadata": {},
   "source": [
    "# Numpy\n",
    "\n",
    "- NumPy is a general-purpose array-processing package.\n",
    "- Numpy was created to work with multidmensional arrays.\n",
    "- It is the fundamental package for scientific computing with Python.\n",
    "- It is open-source library."
   ]
  },
  {
   "cell_type": "markdown",
   "id": "aa77efd3",
   "metadata": {},
   "source": [
    "# Why Use NumPy?\n",
    "- In Python we have lists that serve the purpose of arrays, but they are slow to process.\n",
    "\n",
    "- NumPy aims to provide an array object that is up to 50x faster than traditional Python lists.\n",
    "\n",
    "- The array object in NumPy is called ndarray, it provides a lot of supporting functions that make working with ndarray very easy.\n",
    "\n",
    "- Arrays are very frequently used in data science, where speed and resources are very important."
   ]
  },
  {
   "cell_type": "code",
   "execution_count": 1,
   "id": "d1adccfe",
   "metadata": {
    "ExecuteTime": {
     "end_time": "2023-07-07T13:47:41.865856Z",
     "start_time": "2023-07-07T13:47:41.852480Z"
    }
   },
   "outputs": [],
   "source": [
    "#Importing necessary library"
   ]
  },
  {
   "cell_type": "code",
   "execution_count": 4,
   "id": "a4ea369a",
   "metadata": {
    "ExecuteTime": {
     "end_time": "2023-07-09T09:58:36.975793Z",
     "start_time": "2023-07-09T09:58:36.968916Z"
    }
   },
   "outputs": [],
   "source": [
    "import numpy as np"
   ]
  },
  {
   "cell_type": "code",
   "execution_count": 6,
   "id": "171b2621",
   "metadata": {
    "ExecuteTime": {
     "end_time": "2023-07-09T10:00:08.755075Z",
     "start_time": "2023-07-09T10:00:08.747554Z"
    }
   },
   "outputs": [],
   "source": [
    "#Array Creation\n",
    "a = np.array([1,2,3,4,5,6,7,8,9])"
   ]
  },
  {
   "cell_type": "code",
   "execution_count": 7,
   "id": "b245ea5b",
   "metadata": {
    "ExecuteTime": {
     "end_time": "2023-07-09T10:00:11.658453Z",
     "start_time": "2023-07-09T10:00:11.633942Z"
    }
   },
   "outputs": [
    {
     "data": {
      "text/plain": [
       "array([1, 2, 3, 4, 5, 6, 7, 8, 9])"
      ]
     },
     "execution_count": 7,
     "metadata": {},
     "output_type": "execute_result"
    }
   ],
   "source": [
    "a"
   ]
  },
  {
   "cell_type": "code",
   "execution_count": 8,
   "id": "f6b5d851",
   "metadata": {
    "ExecuteTime": {
     "end_time": "2023-07-09T10:05:58.142877Z",
     "start_time": "2023-07-09T10:05:58.129809Z"
    }
   },
   "outputs": [
    {
     "data": {
      "text/plain": [
       "1"
      ]
     },
     "execution_count": 8,
     "metadata": {},
     "output_type": "execute_result"
    }
   ],
   "source": [
    "a.ndim"
   ]
  },
  {
   "cell_type": "code",
   "execution_count": 9,
   "id": "c03af042",
   "metadata": {
    "ExecuteTime": {
     "end_time": "2023-07-09T10:06:36.629338Z",
     "start_time": "2023-07-09T10:06:36.608383Z"
    }
   },
   "outputs": [
    {
     "data": {
      "text/plain": [
       "0"
      ]
     },
     "execution_count": 9,
     "metadata": {},
     "output_type": "execute_result"
    }
   ],
   "source": [
    "z = np.array(10)\n",
    "z.ndim"
   ]
  },
  {
   "cell_type": "code",
   "execution_count": 4,
   "id": "63162fb5",
   "metadata": {
    "ExecuteTime": {
     "end_time": "2023-07-07T13:47:41.899188Z",
     "start_time": "2023-07-07T13:47:41.893679Z"
    }
   },
   "outputs": [],
   "source": [
    "#Two dimensional array"
   ]
  },
  {
   "cell_type": "code",
   "execution_count": 10,
   "id": "f3bf75e0",
   "metadata": {
    "ExecuteTime": {
     "end_time": "2023-07-09T10:06:59.015243Z",
     "start_time": "2023-07-09T10:06:59.002974Z"
    }
   },
   "outputs": [
    {
     "data": {
      "text/plain": [
       "2"
      ]
     },
     "execution_count": 10,
     "metadata": {},
     "output_type": "execute_result"
    }
   ],
   "source": [
    "two = np.array([[1,2,3]])\n",
    "two.ndim"
   ]
  },
  {
   "cell_type": "code",
   "execution_count": 5,
   "id": "0905f753",
   "metadata": {
    "ExecuteTime": {
     "end_time": "2023-07-07T13:47:41.916199Z",
     "start_time": "2023-07-07T13:47:41.901751Z"
    }
   },
   "outputs": [],
   "source": [
    "#Three dimensional array"
   ]
  },
  {
   "cell_type": "code",
   "execution_count": 11,
   "id": "8fc45c90",
   "metadata": {
    "ExecuteTime": {
     "end_time": "2023-07-09T10:07:17.190878Z",
     "start_time": "2023-07-09T10:07:17.173848Z"
    }
   },
   "outputs": [
    {
     "data": {
      "text/plain": [
       "3"
      ]
     },
     "execution_count": 11,
     "metadata": {},
     "output_type": "execute_result"
    }
   ],
   "source": [
    "three = np.array([[[1,2,3]]])\n",
    "three.ndim"
   ]
  },
  {
   "cell_type": "code",
   "execution_count": 6,
   "id": "b14366dc",
   "metadata": {
    "ExecuteTime": {
     "end_time": "2023-07-07T13:47:41.932855Z",
     "start_time": "2023-07-07T13:47:41.917640Z"
    }
   },
   "outputs": [],
   "source": [
    "#Change the data type of the array elements."
   ]
  },
  {
   "cell_type": "code",
   "execution_count": 12,
   "id": "afbbe1ba",
   "metadata": {
    "ExecuteTime": {
     "end_time": "2023-07-09T10:08:39.242294Z",
     "start_time": "2023-07-09T10:08:39.223172Z"
    }
   },
   "outputs": [],
   "source": [
    "z = np.array([10,'Python',10.2, True])"
   ]
  },
  {
   "cell_type": "code",
   "execution_count": 13,
   "id": "aa2f90cc",
   "metadata": {
    "ExecuteTime": {
     "end_time": "2023-07-09T10:08:44.196270Z",
     "start_time": "2023-07-09T10:08:44.176025Z"
    }
   },
   "outputs": [
    {
     "data": {
      "text/plain": [
       "array(['10', 'Python', '10.2', 'True'], dtype='<U32')"
      ]
     },
     "execution_count": 13,
     "metadata": {},
     "output_type": "execute_result"
    }
   ],
   "source": [
    "z"
   ]
  },
  {
   "cell_type": "code",
   "execution_count": 15,
   "id": "618cd385",
   "metadata": {
    "ExecuteTime": {
     "end_time": "2023-07-09T10:10:13.182846Z",
     "start_time": "2023-07-09T10:10:13.168277Z"
    }
   },
   "outputs": [
    {
     "data": {
      "text/plain": [
       "array([10., 20., 30.])"
      ]
     },
     "execution_count": 15,
     "metadata": {},
     "output_type": "execute_result"
    }
   ],
   "source": [
    "x = np.array([10,20,30], dtype = 'float')\n",
    "x"
   ]
  },
  {
   "cell_type": "markdown",
   "id": "2ff2c8a5",
   "metadata": {},
   "source": [
    "# Other ways of creating an array\n",
    "1. arange\n",
    "2. linspace\n",
    "3. zeros\n",
    "4. ones\n",
    "5. random"
   ]
  },
  {
   "cell_type": "code",
   "execution_count": 16,
   "id": "5e2d8474",
   "metadata": {
    "ExecuteTime": {
     "end_time": "2023-07-09T10:11:37.683115Z",
     "start_time": "2023-07-09T10:11:37.674377Z"
    }
   },
   "outputs": [
    {
     "data": {
      "text/plain": [
       "array([ 1,  2,  3,  4,  5,  6,  7,  8,  9, 10, 11, 12, 13, 14, 15, 16, 17,\n",
       "       18, 19, 20, 21, 22, 23, 24, 25, 26, 27, 28, 29, 30, 31, 32, 33, 34,\n",
       "       35, 36, 37, 38, 39, 40, 41, 42, 43, 44, 45, 46, 47, 48, 49])"
      ]
     },
     "execution_count": 16,
     "metadata": {},
     "output_type": "execute_result"
    }
   ],
   "source": [
    "z = np.arange(1,50)\n",
    "z"
   ]
  },
  {
   "cell_type": "code",
   "execution_count": 20,
   "id": "317919f9",
   "metadata": {
    "ExecuteTime": {
     "end_time": "2023-07-09T10:14:23.375801Z",
     "start_time": "2023-07-09T10:14:23.366364Z"
    },
    "scrolled": true
   },
   "outputs": [
    {
     "data": {
      "text/plain": [
       "(array([10.        , 10.20408163, 10.40816327, 10.6122449 , 10.81632653,\n",
       "        11.02040816, 11.2244898 , 11.42857143, 11.63265306, 11.83673469,\n",
       "        12.04081633, 12.24489796, 12.44897959, 12.65306122, 12.85714286,\n",
       "        13.06122449, 13.26530612, 13.46938776, 13.67346939, 13.87755102,\n",
       "        14.08163265, 14.28571429, 14.48979592, 14.69387755, 14.89795918,\n",
       "        15.10204082, 15.30612245, 15.51020408, 15.71428571, 15.91836735,\n",
       "        16.12244898, 16.32653061, 16.53061224, 16.73469388, 16.93877551,\n",
       "        17.14285714, 17.34693878, 17.55102041, 17.75510204, 17.95918367,\n",
       "        18.16326531, 18.36734694, 18.57142857, 18.7755102 , 18.97959184,\n",
       "        19.18367347, 19.3877551 , 19.59183673, 19.79591837, 20.        ]),\n",
       " 0.20408163265306123)"
      ]
     },
     "execution_count": 20,
     "metadata": {},
     "output_type": "execute_result"
    }
   ],
   "source": [
    "a = np.linspace(10,20,50, retstep=True)\n",
    "a"
   ]
  },
  {
   "cell_type": "code",
   "execution_count": 22,
   "id": "ccff7595",
   "metadata": {
    "ExecuteTime": {
     "end_time": "2023-07-09T10:15:54.067911Z",
     "start_time": "2023-07-09T10:15:54.048094Z"
    }
   },
   "outputs": [
    {
     "data": {
      "text/plain": [
       "array([[0., 0., 0.],\n",
       "       [0., 0., 0.],\n",
       "       [0., 0., 0.]])"
      ]
     },
     "execution_count": 22,
     "metadata": {},
     "output_type": "execute_result"
    }
   ],
   "source": [
    "zeros = np.zeros([3,3])\n",
    "zeros"
   ]
  },
  {
   "cell_type": "code",
   "execution_count": 23,
   "id": "ffb15e95",
   "metadata": {
    "ExecuteTime": {
     "end_time": "2023-07-09T10:16:15.845770Z",
     "start_time": "2023-07-09T10:16:15.836777Z"
    }
   },
   "outputs": [
    {
     "data": {
      "text/plain": [
       "array([[1., 1.],\n",
       "       [1., 1.],\n",
       "       [1., 1.],\n",
       "       [1., 1.],\n",
       "       [1., 1.]])"
      ]
     },
     "execution_count": 23,
     "metadata": {},
     "output_type": "execute_result"
    }
   ],
   "source": [
    "np.ones([5,2])"
   ]
  },
  {
   "cell_type": "code",
   "execution_count": 7,
   "id": "6f22e33e",
   "metadata": {
    "ExecuteTime": {
     "end_time": "2023-07-07T13:47:41.948572Z",
     "start_time": "2023-07-07T13:47:41.935046Z"
    }
   },
   "outputs": [],
   "source": [
    "#Numpy Random functions"
   ]
  },
  {
   "cell_type": "code",
   "execution_count": 25,
   "id": "b20598f0",
   "metadata": {
    "ExecuteTime": {
     "end_time": "2023-07-09T10:17:30.721026Z",
     "start_time": "2023-07-09T10:17:30.697565Z"
    }
   },
   "outputs": [
    {
     "data": {
      "text/plain": [
       "array([[0.84114869, 0.60078585, 0.15692279, 0.32515826, 0.30975952,\n",
       "        0.25992294],\n",
       "       [0.90253771, 0.91484393, 0.30442676, 0.46974757, 0.06146917,\n",
       "        0.41349354],\n",
       "       [0.08355923, 0.92835805, 0.63518451, 0.20043051, 0.21597791,\n",
       "        0.33299787],\n",
       "       [0.16488609, 0.89507606, 0.50370963, 0.37833804, 0.26945916,\n",
       "        0.54088111],\n",
       "       [0.63022628, 0.11094457, 0.39559758, 0.86954399, 0.86142924,\n",
       "        0.5236373 ]])"
      ]
     },
     "execution_count": 25,
     "metadata": {},
     "output_type": "execute_result"
    }
   ],
   "source": [
    "np.random.rand(5,6)"
   ]
  },
  {
   "cell_type": "code",
   "execution_count": 26,
   "id": "cb924155",
   "metadata": {
    "ExecuteTime": {
     "end_time": "2023-07-09T10:20:25.456946Z",
     "start_time": "2023-07-09T10:20:25.437112Z"
    }
   },
   "outputs": [
    {
     "data": {
      "text/plain": [
       "array([[-1.15257297,  0.6714114 , -0.33965224,  1.91666807],\n",
       "       [ 1.2269504 , -0.48304355, -1.14914584,  0.03057618]])"
      ]
     },
     "execution_count": 26,
     "metadata": {},
     "output_type": "execute_result"
    }
   ],
   "source": [
    "np.random.randn(2,4)"
   ]
  },
  {
   "cell_type": "code",
   "execution_count": 28,
   "id": "478259b5",
   "metadata": {
    "ExecuteTime": {
     "end_time": "2023-07-09T10:21:08.038273Z",
     "start_time": "2023-07-09T10:21:08.018204Z"
    }
   },
   "outputs": [
    {
     "data": {
      "text/plain": [
       "array([0.42247057, 0.72995596, 0.11484021, 0.79210461, 0.95327129,\n",
       "       0.49267518, 0.5508207 , 0.82180079, 0.1326942 , 0.5751732 ,\n",
       "       0.02202702, 0.67676256, 0.25291906, 0.92680767, 0.82511803,\n",
       "       0.75171303, 0.30107281, 0.08070868, 0.47885197, 0.16306246,\n",
       "       0.05110094, 0.99782861, 0.78259631, 0.77655395, 0.57386182,\n",
       "       0.37663595, 0.7646808 , 0.13543488, 0.04000237, 0.27634119,\n",
       "       0.78911928, 0.44280034, 0.73565186, 0.09760526, 0.30481221,\n",
       "       0.46331416, 0.59671539, 0.33476889, 0.6317446 , 0.85518951,\n",
       "       0.57739233, 0.7877702 , 0.31415924, 0.96814334, 0.82081978,\n",
       "       0.0424899 , 0.93697096, 0.6120419 , 0.23989714, 0.62845719,\n",
       "       0.78777759, 0.11854518, 0.08524446, 0.483329  , 0.13270441,\n",
       "       0.79044786, 0.47262328, 0.50731137, 0.15013999, 0.53158695,\n",
       "       0.89248197, 0.82536166, 0.13112588, 0.58458713, 0.35499703,\n",
       "       0.5443966 , 0.26236081, 0.90203554, 0.62998646, 0.96835242,\n",
       "       0.80792966, 0.70300853, 0.77295992, 0.96154194, 0.40720811,\n",
       "       0.74233126, 0.84839868, 0.05522461, 0.49964809, 0.40440049,\n",
       "       0.40693989, 0.41081332, 0.24761903, 0.86404426, 0.76043252,\n",
       "       0.94880121, 0.35939703, 0.46862786, 0.78051417, 0.93719848,\n",
       "       0.10057288, 0.99844347, 0.48196146, 0.46811233, 0.7570385 ,\n",
       "       0.92938624, 0.83503663, 0.68575833, 0.7176519 , 0.40851017,\n",
       "       0.94459719, 0.62249211, 0.78744604, 0.29079294, 0.70807923,\n",
       "       0.94702543, 0.74151103, 0.85938201, 0.81061616, 0.32315879,\n",
       "       0.73979659, 0.18212255, 0.24893954, 0.40889977, 0.87919979,\n",
       "       0.3297292 , 0.6032847 , 0.42386636, 0.83177813, 0.17772968,\n",
       "       0.08642194, 0.20275917, 0.10923487, 0.13631705, 0.2399618 ,\n",
       "       0.27742109, 0.87660575, 0.19414903, 0.21645407, 0.50821125,\n",
       "       0.60944868, 0.70550468, 0.30771904, 0.68602093, 0.01012833,\n",
       "       0.58860126, 0.66174562, 0.67108788, 0.40368931, 0.08862861,\n",
       "       0.35079727, 0.72062403, 0.3837579 , 0.18193405, 0.24168671,\n",
       "       0.7402786 , 0.43557914, 0.25499452, 0.54575885, 0.46357897,\n",
       "       0.96277953, 0.44996026, 0.85441946, 0.28961535, 0.45613778,\n",
       "       0.35209337, 0.13591701, 0.43076618, 0.37371295, 0.04241211,\n",
       "       0.52538918, 0.28198808, 0.99028703, 0.91494371, 0.74951055,\n",
       "       0.32671668, 0.69207911, 0.28850634, 0.43685636, 0.84124043,\n",
       "       0.70108639, 0.61421756, 0.6241113 , 0.51605121, 0.82024578,\n",
       "       0.66689069, 0.08503729, 0.29296458, 0.96322431, 0.57923972,\n",
       "       0.55135562, 0.58780067, 0.54112026, 0.81982267, 0.5062589 ,\n",
       "       0.64704846, 0.95865779, 0.07838665, 0.74225348, 0.0689963 ,\n",
       "       0.67770058, 0.8847727 , 0.15245568, 0.95805157, 0.58836058,\n",
       "       0.18116973, 0.94800392, 0.34155091, 0.10571143, 0.8845161 ])"
      ]
     },
     "execution_count": 28,
     "metadata": {},
     "output_type": "execute_result"
    }
   ],
   "source": [
    "np.random.random_sample(200)"
   ]
  },
  {
   "cell_type": "markdown",
   "id": "fb232506",
   "metadata": {},
   "source": [
    "# Slicing and Indexing of arrays"
   ]
  },
  {
   "cell_type": "code",
   "execution_count": 29,
   "id": "31ec533c",
   "metadata": {
    "ExecuteTime": {
     "end_time": "2023-07-09T10:21:55.771470Z",
     "start_time": "2023-07-09T10:21:55.751136Z"
    }
   },
   "outputs": [
    {
     "data": {
      "text/plain": [
       "array([1, 2, 3, 4, 5])"
      ]
     },
     "execution_count": 29,
     "metadata": {},
     "output_type": "execute_result"
    }
   ],
   "source": [
    "a = np.array([1,2,3,4,5])\n",
    "a"
   ]
  },
  {
   "cell_type": "code",
   "execution_count": 30,
   "id": "47fe8a48",
   "metadata": {
    "ExecuteTime": {
     "end_time": "2023-07-09T10:22:03.656340Z",
     "start_time": "2023-07-09T10:22:03.635487Z"
    }
   },
   "outputs": [
    {
     "data": {
      "text/plain": [
       "3"
      ]
     },
     "execution_count": 30,
     "metadata": {},
     "output_type": "execute_result"
    }
   ],
   "source": [
    "a[2]"
   ]
  },
  {
   "cell_type": "code",
   "execution_count": 31,
   "id": "4fa2ded3",
   "metadata": {
    "ExecuteTime": {
     "end_time": "2023-07-09T10:22:24.500746Z",
     "start_time": "2023-07-09T10:22:24.491632Z"
    }
   },
   "outputs": [
    {
     "data": {
      "text/plain": [
       "array([[1, 2, 3],\n",
       "       [4, 5, 6]])"
      ]
     },
     "execution_count": 31,
     "metadata": {},
     "output_type": "execute_result"
    }
   ],
   "source": [
    "a = np.array([[1,2,3],[4,5,6]])\n",
    "a"
   ]
  },
  {
   "cell_type": "code",
   "execution_count": 32,
   "id": "12788d97",
   "metadata": {
    "ExecuteTime": {
     "end_time": "2023-07-09T10:24:05.397551Z",
     "start_time": "2023-07-09T10:24:05.377049Z"
    }
   },
   "outputs": [
    {
     "data": {
      "text/plain": [
       "5"
      ]
     },
     "execution_count": 32,
     "metadata": {},
     "output_type": "execute_result"
    }
   ],
   "source": [
    "a[1,1]"
   ]
  },
  {
   "cell_type": "code",
   "execution_count": 34,
   "id": "ad0a07cd",
   "metadata": {
    "ExecuteTime": {
     "end_time": "2023-07-09T10:25:14.204481Z",
     "start_time": "2023-07-09T10:25:14.181966Z"
    }
   },
   "outputs": [
    {
     "data": {
      "text/plain": [
       "array([[1, 2],\n",
       "       [4, 5]])"
      ]
     },
     "execution_count": 34,
     "metadata": {},
     "output_type": "execute_result"
    }
   ],
   "source": [
    "a[:,0:2]"
   ]
  },
  {
   "cell_type": "code",
   "execution_count": 35,
   "id": "60cb4894",
   "metadata": {
    "ExecuteTime": {
     "end_time": "2023-07-09T10:25:29.271116Z",
     "start_time": "2023-07-09T10:25:29.260384Z"
    }
   },
   "outputs": [
    {
     "data": {
      "text/plain": [
       "array([[1, 2, 3],\n",
       "       [4, 5, 6]])"
      ]
     },
     "execution_count": 35,
     "metadata": {},
     "output_type": "execute_result"
    }
   ],
   "source": [
    "a"
   ]
  },
  {
   "cell_type": "code",
   "execution_count": 38,
   "id": "0d372aa8",
   "metadata": {
    "ExecuteTime": {
     "end_time": "2023-07-09T10:27:43.988447Z",
     "start_time": "2023-07-09T10:27:43.978907Z"
    }
   },
   "outputs": [
    {
     "data": {
      "text/plain": [
       "array([1, 6])"
      ]
     },
     "execution_count": 38,
     "metadata": {},
     "output_type": "execute_result"
    }
   ],
   "source": [
    "a[[0,1],[0,2]]"
   ]
  },
  {
   "cell_type": "code",
   "execution_count": 39,
   "id": "94004ef7",
   "metadata": {
    "ExecuteTime": {
     "end_time": "2023-07-09T10:28:22.351897Z",
     "start_time": "2023-07-09T10:28:22.337506Z"
    }
   },
   "outputs": [
    {
     "data": {
      "text/plain": [
       "array([3, 4])"
      ]
     },
     "execution_count": 39,
     "metadata": {},
     "output_type": "execute_result"
    }
   ],
   "source": [
    "a[[0,1],[2,0]]"
   ]
  },
  {
   "cell_type": "code",
   "execution_count": 40,
   "id": "15edcd5e",
   "metadata": {
    "ExecuteTime": {
     "end_time": "2023-07-09T10:29:21.837285Z",
     "start_time": "2023-07-09T10:29:21.815568Z"
    }
   },
   "outputs": [
    {
     "data": {
      "text/plain": [
       "array([2, 5])"
      ]
     },
     "execution_count": 40,
     "metadata": {},
     "output_type": "execute_result"
    }
   ],
   "source": [
    "a[:,1]"
   ]
  },
  {
   "cell_type": "markdown",
   "id": "57bb1165",
   "metadata": {},
   "source": [
    "# Reshaping the arrays "
   ]
  },
  {
   "cell_type": "code",
   "execution_count": 43,
   "id": "2834e07a",
   "metadata": {
    "ExecuteTime": {
     "end_time": "2023-07-09T10:30:44.163205Z",
     "start_time": "2023-07-09T10:30:44.143586Z"
    }
   },
   "outputs": [
    {
     "data": {
      "text/plain": [
       "array([[ 1.42114514,  0.00498214],\n",
       "       [-0.70548094, -0.63805902],\n",
       "       [-0.60230537, -0.06135805],\n",
       "       [-0.01032856,  0.34217645]])"
      ]
     },
     "execution_count": 43,
     "metadata": {},
     "output_type": "execute_result"
    }
   ],
   "source": [
    "x = np.random.randn(4,2)\n",
    "x"
   ]
  },
  {
   "cell_type": "code",
   "execution_count": 44,
   "id": "9e1b54f2",
   "metadata": {
    "ExecuteTime": {
     "end_time": "2023-07-09T10:33:18.645516Z",
     "start_time": "2023-07-09T10:33:18.636471Z"
    }
   },
   "outputs": [
    {
     "data": {
      "text/plain": [
       "array([[ 1.42114514],\n",
       "       [ 0.00498214],\n",
       "       [-0.70548094],\n",
       "       [-0.63805902],\n",
       "       [-0.60230537],\n",
       "       [-0.06135805],\n",
       "       [-0.01032856],\n",
       "       [ 0.34217645]])"
      ]
     },
     "execution_count": 44,
     "metadata": {},
     "output_type": "execute_result"
    }
   ],
   "source": [
    "x.reshape(8,1)"
   ]
  },
  {
   "cell_type": "code",
   "execution_count": 45,
   "id": "7d69fcc6",
   "metadata": {
    "ExecuteTime": {
     "end_time": "2023-07-09T10:33:29.903143Z",
     "start_time": "2023-07-09T10:33:29.879935Z"
    }
   },
   "outputs": [
    {
     "data": {
      "text/plain": [
       "array([[ 1.42114514,  0.00498214, -0.70548094, -0.63805902, -0.60230537,\n",
       "        -0.06135805, -0.01032856,  0.34217645]])"
      ]
     },
     "execution_count": 45,
     "metadata": {},
     "output_type": "execute_result"
    }
   ],
   "source": [
    "x.reshape(1,8)"
   ]
  },
  {
   "cell_type": "code",
   "execution_count": 46,
   "id": "8234d794",
   "metadata": {
    "ExecuteTime": {
     "end_time": "2023-07-09T10:33:41.918542Z",
     "start_time": "2023-07-09T10:33:41.888706Z"
    }
   },
   "outputs": [
    {
     "ename": "ValueError",
     "evalue": "cannot reshape array of size 8 into shape (4,3)",
     "output_type": "error",
     "traceback": [
      "\u001b[1;31m---------------------------------------------------------------------------\u001b[0m",
      "\u001b[1;31mValueError\u001b[0m                                Traceback (most recent call last)",
      "\u001b[1;32m~\\AppData\\Local\\Temp\\ipykernel_11624\\3276852490.py\u001b[0m in \u001b[0;36m<module>\u001b[1;34m\u001b[0m\n\u001b[1;32m----> 1\u001b[1;33m \u001b[0mx\u001b[0m\u001b[1;33m.\u001b[0m\u001b[0mreshape\u001b[0m\u001b[1;33m(\u001b[0m\u001b[1;36m4\u001b[0m\u001b[1;33m,\u001b[0m\u001b[1;36m3\u001b[0m\u001b[1;33m)\u001b[0m\u001b[1;33m\u001b[0m\u001b[1;33m\u001b[0m\u001b[0m\n\u001b[0m",
      "\u001b[1;31mValueError\u001b[0m: cannot reshape array of size 8 into shape (4,3)"
     ]
    }
   ],
   "source": [
    "x.reshape(4,3)"
   ]
  },
  {
   "cell_type": "code",
   "execution_count": 47,
   "id": "e1cc7e02",
   "metadata": {
    "ExecuteTime": {
     "end_time": "2023-07-09T10:34:43.274762Z",
     "start_time": "2023-07-09T10:34:43.253980Z"
    }
   },
   "outputs": [
    {
     "data": {
      "text/plain": [
       "array([[ 1.42114514,  0.00498214, -0.70548094, -0.63805902],\n",
       "       [-0.60230537, -0.06135805, -0.01032856,  0.34217645]])"
      ]
     },
     "execution_count": 47,
     "metadata": {},
     "output_type": "execute_result"
    }
   ],
   "source": [
    "x.reshape(2,-1)"
   ]
  },
  {
   "cell_type": "code",
   "execution_count": 48,
   "id": "4df9cb56",
   "metadata": {
    "ExecuteTime": {
     "end_time": "2023-07-09T10:35:09.463147Z",
     "start_time": "2023-07-09T10:35:09.444368Z"
    }
   },
   "outputs": [
    {
     "data": {
      "text/plain": [
       "array([[ 1.42114514,  0.00498214, -0.70548094, -0.63805902],\n",
       "       [-0.60230537, -0.06135805, -0.01032856,  0.34217645]])"
      ]
     },
     "execution_count": 48,
     "metadata": {},
     "output_type": "execute_result"
    }
   ],
   "source": [
    "x.reshape(-1,4)"
   ]
  },
  {
   "cell_type": "code",
   "execution_count": 49,
   "id": "35e17b00",
   "metadata": {
    "ExecuteTime": {
     "end_time": "2023-07-09T10:35:36.660479Z",
     "start_time": "2023-07-09T10:35:36.642451Z"
    }
   },
   "outputs": [
    {
     "ename": "ValueError",
     "evalue": "can only specify one unknown dimension",
     "output_type": "error",
     "traceback": [
      "\u001b[1;31m---------------------------------------------------------------------------\u001b[0m",
      "\u001b[1;31mValueError\u001b[0m                                Traceback (most recent call last)",
      "\u001b[1;32m~\\AppData\\Local\\Temp\\ipykernel_11624\\2013166916.py\u001b[0m in \u001b[0;36m<module>\u001b[1;34m\u001b[0m\n\u001b[1;32m----> 1\u001b[1;33m \u001b[0mx\u001b[0m\u001b[1;33m.\u001b[0m\u001b[0mreshape\u001b[0m\u001b[1;33m(\u001b[0m\u001b[1;33m-\u001b[0m\u001b[1;36m1\u001b[0m\u001b[1;33m,\u001b[0m\u001b[1;33m-\u001b[0m\u001b[1;36m1\u001b[0m\u001b[1;33m)\u001b[0m\u001b[1;33m\u001b[0m\u001b[1;33m\u001b[0m\u001b[0m\n\u001b[0m",
      "\u001b[1;31mValueError\u001b[0m: can only specify one unknown dimension"
     ]
    }
   ],
   "source": [
    "x.reshape(-1,-1)"
   ]
  },
  {
   "cell_type": "markdown",
   "id": "3bdf9c2b",
   "metadata": {},
   "source": [
    "# Aggregate Functions\n",
    "\n",
    "- The Python numpy aggregate functions are sum, min, max, mean, average, product, median, standard deviation, variance,  percentile, and corrcoef."
   ]
  },
  {
   "cell_type": "code",
   "execution_count": 50,
   "id": "bbff223c",
   "metadata": {
    "ExecuteTime": {
     "end_time": "2023-07-09T10:36:14.420891Z",
     "start_time": "2023-07-09T10:36:14.399090Z"
    }
   },
   "outputs": [
    {
     "data": {
      "text/plain": [
       "array([[ 1.42114514,  0.00498214],\n",
       "       [-0.70548094, -0.63805902],\n",
       "       [-0.60230537, -0.06135805],\n",
       "       [-0.01032856,  0.34217645]])"
      ]
     },
     "execution_count": 50,
     "metadata": {},
     "output_type": "execute_result"
    }
   ],
   "source": [
    "x"
   ]
  },
  {
   "cell_type": "code",
   "execution_count": 51,
   "id": "901a98ac",
   "metadata": {
    "ExecuteTime": {
     "end_time": "2023-07-09T10:36:39.543182Z",
     "start_time": "2023-07-09T10:36:39.526212Z"
    }
   },
   "outputs": [
    {
     "data": {
      "text/plain": [
       "-0.031153526350581162"
      ]
     },
     "execution_count": 51,
     "metadata": {},
     "output_type": "execute_result"
    }
   ],
   "source": [
    "x.mean()"
   ]
  },
  {
   "cell_type": "code",
   "execution_count": 53,
   "id": "dad1779f",
   "metadata": {
    "ExecuteTime": {
     "end_time": "2023-07-09T10:37:11.875040Z",
     "start_time": "2023-07-09T10:37:11.865438Z"
    }
   },
   "outputs": [
    {
     "data": {
      "text/plain": [
       "-0.7054809438724947"
      ]
     },
     "execution_count": 53,
     "metadata": {},
     "output_type": "execute_result"
    }
   ],
   "source": [
    "x.min()"
   ]
  },
  {
   "cell_type": "code",
   "execution_count": 54,
   "id": "fc8667f1",
   "metadata": {
    "ExecuteTime": {
     "end_time": "2023-07-09T10:37:17.133455Z",
     "start_time": "2023-07-09T10:37:17.112925Z"
    }
   },
   "outputs": [
    {
     "data": {
      "text/plain": [
       "1.4211451397417818"
      ]
     },
     "execution_count": 54,
     "metadata": {},
     "output_type": "execute_result"
    }
   ],
   "source": [
    "x.max()"
   ]
  },
  {
   "cell_type": "code",
   "execution_count": null,
   "id": "6d75b414",
   "metadata": {},
   "outputs": [],
   "source": []
  }
 ],
 "metadata": {
  "_draft": {
   "nbviewer_url": "https://gist.github.com/21c911ff193396ba12c34a5385ab8119"
  },
  "gist": {
   "data": {
    "description": "ExcelR/Numpy.ipynb",
    "public": true
   },
   "id": "21c911ff193396ba12c34a5385ab8119"
  },
  "kernelspec": {
   "display_name": "Python 3 (ipykernel)",
   "language": "python",
   "name": "python3"
  },
  "language_info": {
   "codemirror_mode": {
    "name": "ipython",
    "version": 3
   },
   "file_extension": ".py",
   "mimetype": "text/x-python",
   "name": "python",
   "nbconvert_exporter": "python",
   "pygments_lexer": "ipython3",
   "version": "3.9.13"
  }
 },
 "nbformat": 4,
 "nbformat_minor": 5
}
